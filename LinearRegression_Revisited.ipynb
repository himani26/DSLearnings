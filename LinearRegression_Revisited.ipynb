{
 "cells": [
  {
   "cell_type": "code",
   "execution_count": 2,
   "metadata": {},
   "outputs": [],
   "source": [
    "import numpy as np\n",
    "import pandas as pd"
   ]
  },
  {
   "cell_type": "markdown",
   "metadata": {},
   "source": [
    "**Creating a Sample Dataset**"
   ]
  },
  {
   "cell_type": "code",
   "execution_count": 3,
   "metadata": {},
   "outputs": [
    {
     "name": "stdout",
     "output_type": "stream",
     "text": [
      "   distance  order_size  delivery_time  delivery_cost\n",
      "0  4.370861           7      36.482529      30.872741\n",
      "1  9.556429           1      22.092615      25.627926\n",
      "2  7.587945           4      14.655138      25.100501\n",
      "3  6.387926           4      54.860788      36.323040\n",
      "4  2.404168           5      55.020903      28.878886\n"
     ]
    }
   ],
   "source": [
    "# Generating random data for our features\n",
    "np.random.seed(42)\n",
    "\n",
    "# Features: distance (km), order size (number of items), delivery time (minutes)\n",
    "distance = np.random.uniform(1, 10, 100)  # Distance between 1 and 10 km\n",
    "order_size = np.random.randint(1, 10, 100)  # Order size between 1 and 10 items\n",
    "delivery_time = np.random.uniform(10, 60, 100)  # Delivery time between 10 and 60 minutes\n",
    "\n",
    "# Weights for the relationship between features and cost (just for simulation)\n",
    "cost_per_km = 2  # cost per km\n",
    "cost_per_item = 1.5  # cost per item\n",
    "cost_per_minute = 0.3  # cost per minute\n",
    "\n",
    "# Simulated delivery cost (y) formula: \n",
    "# y = cost_per_km * distance + cost_per_item * order_size + cost_per_minute * delivery_time + noise\n",
    "noise = np.random.normal(0, 1, 100)  # Adding some noise to make it more realistic\n",
    "delivery_cost = cost_per_km * distance + cost_per_item * order_size + cost_per_minute * delivery_time + noise\n",
    "\n",
    "# Creating the DataFrame\n",
    "data = pd.DataFrame({\n",
    "    'distance': distance,\n",
    "    'order_size': order_size,\n",
    "    'delivery_time': delivery_time,\n",
    "    'delivery_cost': delivery_cost\n",
    "})\n",
    "\n",
    "print(data.head())  "
   ]
  },
  {
   "cell_type": "code",
   "execution_count": null,
   "metadata": {},
   "outputs": [],
   "source": []
  }
 ],
 "metadata": {
  "kernelspec": {
   "display_name": "Python 3",
   "language": "python",
   "name": "python3"
  },
  "language_info": {
   "codemirror_mode": {
    "name": "ipython",
    "version": 3
   },
   "file_extension": ".py",
   "mimetype": "text/x-python",
   "name": "python",
   "nbconvert_exporter": "python",
   "pygments_lexer": "ipython3",
   "version": "3.9.6"
  },
  "orig_nbformat": 4
 },
 "nbformat": 4,
 "nbformat_minor": 2
}
